{
 "cells": [
  {
   "cell_type": "code",
   "execution_count": 7,
   "metadata": {},
   "outputs": [],
   "source": [
    "import pandas as pd \n",
    "import numpy as np\n"
   ]
  },
  {
   "cell_type": "code",
   "execution_count": 9,
   "metadata": {},
   "outputs": [
    {
     "name": "stdout",
     "output_type": "stream",
     "text": [
      "    Mood  Gender Health     Body Remenberence Awarence Enjoy Sport\n",
      "0  happy    Male   Good   Strong         Nice     Same         Yes\n",
      "1  happy    Male   Week  Strong         Nice      Same         Yes\n",
      "2  angry  Female   Week     Week         Poor     same          No\n",
      "3  happy    Male   Good   Strong         Poor   Change         Yes\n",
      "[['happy' 'Male' 'Good' 'Strong' 'Nice' 'Same']\n",
      " ['happy' 'Male' 'Week' 'Strong ' 'Nice ' 'Same']\n",
      " ['angry' 'Female' 'Week' 'Week' 'Poor' 'same']\n",
      " ['happy' 'Male' 'Good' 'Strong' 'Poor' 'Change']]\n",
      "['Yes' 'Yes' 'No' 'Yes']\n"
     ]
    }
   ],
   "source": [
    "data=pd.DataFrame(data=pd.read_csv('lab_exp.csv'))\n",
    "print(data)\n",
    "concepts=np.array(data.iloc[:,0:-1])\n",
    "print(concepts)\n",
    "target=np.array(data.iloc[:,-1])\n",
    "print(target)"
   ]
  },
  {
   "cell_type": "code",
   "execution_count": 11,
   "metadata": {},
   "outputs": [
    {
     "name": "stdout",
     "output_type": "stream",
     "text": [
      "Initialization of specific_h and general_h are\n",
      "['happy' 'Male' 'Good' 'Strong' 'Nice' 'Same']\n",
      "[['?', '?', '?', '?', '?', '?'], ['?', '?', '?', '?', '?', '?'], ['?', '?', '?', '?', '?', '?'], ['?', '?', '?', '?', '?', '?'], ['?', '?', '?', '?', '?', '?'], ['?', '?', '?', '?', '?', '?']]\n",
      "Steps of candidates' elimination algo  1\n",
      "['happy' 'Male' 'Good' 'Strong' 'Nice' 'Same']\n",
      "[['?', '?', '?', '?', '?', '?'], ['?', '?', '?', '?', '?', '?'], ['?', '?', '?', '?', '?', '?'], ['?', '?', '?', '?', '?', '?'], ['?', '?', '?', '?', '?', '?'], ['?', '?', '?', '?', '?', '?']]\n",
      "Steps of candidates' elimination algo  2\n",
      "['happy' 'Male' '?' '?' '?' 'Same']\n",
      "[['?', '?', '?', '?', '?', '?'], ['?', '?', '?', '?', '?', '?'], ['?', '?', '?', '?', '?', '?'], ['?', '?', '?', '?', '?', '?'], ['?', '?', '?', '?', '?', '?'], ['?', '?', '?', '?', '?', '?']]\n",
      "Steps of candidates' elimination algo  3\n",
      "['happy' 'Male' '?' '?' '?' 'Same']\n",
      "[['happy', '?', '?', '?', '?', '?'], ['?', 'Male', '?', '?', '?', '?'], ['?', '?', '?', '?', '?', '?'], ['?', '?', '?', '?', '?', '?'], ['?', '?', '?', '?', '?', '?'], ['?', '?', '?', '?', '?', 'Same']]\n",
      "Steps of candidates' elimination algo  4\n",
      "['happy' 'Male' '?' '?' '?' '?']\n",
      "[['happy', '?', '?', '?', '?', '?'], ['?', 'Male', '?', '?', '?', '?'], ['?', '?', '?', '?', '?', '?'], ['?', '?', '?', '?', '?', '?'], ['?', '?', '?', '?', '?', '?'], ['?', '?', '?', '?', '?', '?']]\n",
      "Final specific_h:\n",
      "['happy' 'Male' '?' '?' '?' '?']\n",
      "\n",
      "Final general_h:\n",
      "[['happy', '?', '?', '?', '?', '?'], ['?', 'Male', '?', '?', '?', '?']]\n"
     ]
    }
   ],
   "source": [
    "def learn(concepts, target):\n",
    "    specific_h=concepts[0].copy()\n",
    "    print(\"Initialization of specific_h and general_h are\")\n",
    "    print(specific_h)\n",
    "    general_h=[['?' for i in range(len(specific_h))] for i in range(len(specific_h))]\n",
    "    print(general_h)\n",
    "    for i,h in enumerate(concepts):\n",
    "        if target[i]==\"Yes\":\n",
    "            for x in range(len(specific_h)):\n",
    "                if h[x] != specific_h[x]:\n",
    "                    specific_h[x]=\"?\"\n",
    "                    general_h[x][x]=\"?\"\n",
    "        if target[i]==\"No\":\n",
    "            for x in range(len(specific_h)):\n",
    "                if h[x] != specific_h[x]:\n",
    "                    general_h[x][x]=specific_h[x]\n",
    "                else:\n",
    "                    general_h[x][x]=\"?\"\n",
    "        print(\"Steps of candidates' elimination algo \", i+1)\n",
    "        print(specific_h)\n",
    "        print(general_h)\n",
    "        indices=[i for i, val in enumerate(general_h) if val==['?', '?','?', '?','?', '?']]\n",
    "    for i in indices:\n",
    "        general_h.remove(['?', '?','?', '?','?', '?'])\n",
    "    return specific_h, general_h   \n",
    "s_final, g_final=learn(concepts, target)\n",
    "print(\"Final specific_h:\", s_final, sep=\"\\n\")\n",
    "print(\"\\nFinal general_h:\", g_final, sep=\"\\n\")"
   ]
  }
 ],
 "metadata": {
  "kernelspec": {
   "display_name": "Python 3",
   "language": "python",
   "name": "python3"
  },
  "language_info": {
   "codemirror_mode": {
    "name": "ipython",
    "version": 3
   },
   "file_extension": ".py",
   "mimetype": "text/x-python",
   "name": "python",
   "nbconvert_exporter": "python",
   "pygments_lexer": "ipython3",
   "version": "3.6.2"
  },
  "orig_nbformat": 4
 },
 "nbformat": 4,
 "nbformat_minor": 2
}
